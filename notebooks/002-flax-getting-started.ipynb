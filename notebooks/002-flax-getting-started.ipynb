{
 "cells": [
  {
   "cell_type": "code",
   "execution_count": 1,
   "metadata": {},
   "outputs": [
    {
     "name": "stderr",
     "output_type": "stream",
     "text": [
      "/home/cris/jax-streams/.venv/lib/python3.8/site-packages/tqdm/auto.py:22: TqdmWarning: IProgress not found. Please update jupyter and ipywidgets. See https://ipywidgets.readthedocs.io/en/stable/user_install.html\n",
      "  from .autonotebook import tqdm as notebook_tqdm\n"
     ]
    }
   ],
   "source": [
    "import tensorflow_datasets as tfds\n",
    "import tensorflow as tf\n",
    "\n",
    "batch_size = 32\n",
    "epochs = 10\n",
    "\n",
    "# load the MNIST dataset\n",
    "ds_train: tf.data.Dataset = tfds.load(\"mnist\", split=\"train\", shuffle_files=True)\n",
    "ds_train = ds_train.repeat(epochs).shuffle(1024).batch(batch_size).prefetch(1)"
   ]
  },
  {
   "cell_type": "code",
   "execution_count": 2,
   "metadata": {},
   "outputs": [
    {
     "name": "stderr",
     "output_type": "stream",
     "text": [
      "2022-12-17 22:53:22.396300: W tensorflow/core/kernels/data/cache_dataset_ops.cc:856] The calling iterator did not fully read the dataset being cached. In order to avoid unexpected truncation of the dataset, the partially cached contents of the dataset  will be discarded. This can happen if you have an input pipeline similar to `dataset.cache().take(k).repeat()`. You should use `dataset.take(k).cache().repeat()` instead.\n"
     ]
    },
    {
     "data": {
      "image/png": "[encoded data removed]",
      "text/plain": [
       "<Figure size 640x480 with 9 Axes>"
      ]
     },
     "metadata": {},
     "output_type": "display_data"
    }
   ],
   "source": [
    "import matplotlib.pyplot as plt\n",
    "\n",
    "samples = ds_train.as_numpy_iterator().next()\n",
    "# plot a 3x3 grid of the images using subplots\n",
    "fig, axs = plt.subplots(3, 3)\n",
    "for i in range(3):\n",
    "    for j in range(3):\n",
    "        axs[i, j].imshow(samples[\"image\"][i * 3 + j, :, :, 0], cmap=\"gray\")\n",
    "        axs[i, j].axis(\"off\")\n"
   ]
  },
  {
   "cell_type": "code",
   "execution_count": 3,
   "metadata": {},
   "outputs": [],
   "source": [
    "import flax.linen as nn\n",
    "\n",
    "class Classifier(nn.Module):\n",
    "    num_classes: int\n",
    "    \n",
    "    @nn.compact\n",
    "    def __call__(self, x):\n",
    "        x = x / 255.0\n",
    "        x = x.reshape((x.shape[0], -1))  # flatten\n",
    "        x = nn.Dense(features=self.num_classes)(x)\n",
    "        return x"
   ]
  },
  {
   "cell_type": "code",
   "execution_count": 4,
   "metadata": {},
   "outputs": [
    {
     "name": "stdout",
     "output_type": "stream",
     "text": [
      "FrozenDict({\n",
      "    Dense_0: {\n",
      "        bias: (10,),\n",
      "        kernel: (784, 10),\n",
      "    },\n",
      "})\n"
     ]
    }
   ],
   "source": [
    "\n",
    "import jax\n",
    "import jax.numpy as jnp\n",
    "\n",
    "module = Classifier(num_classes=10)\n",
    "variables = module.init(jax.random.PRNGKey(0), jnp.empty((1, 28, 28, 1)))\n",
    "params = variables['params']\n",
    "print(jax.tree_map(jnp.shape, params))"
   ]
  },
  {
   "cell_type": "code",
   "execution_count": 5,
   "metadata": {},
   "outputs": [
    {
     "name": "stdout",
     "output_type": "stream",
     "text": [
      "\n",
      "\u001b[3m                               Classifier Summary                               \u001b[0m\n",
      "┏━━━━━━━━━┳━━━━━━━━━━━━┳━━━━━━━━━━━━━━━━━━━┳━━━━━━━━━━━━━━━┳━━━━━━━━━━━━━━━━━━━┓\n",
      "┃\u001b[1m \u001b[0m\u001b[1mpath   \u001b[0m\u001b[1m \u001b[0m┃\u001b[1m \u001b[0m\u001b[1mmodule    \u001b[0m\u001b[1m \u001b[0m┃\u001b[1m \u001b[0m\u001b[1minputs           \u001b[0m\u001b[1m \u001b[0m┃\u001b[1m \u001b[0m\u001b[1moutputs      \u001b[0m\u001b[1m \u001b[0m┃\u001b[1m \u001b[0m\u001b[1mparams           \u001b[0m\u001b[1m \u001b[0m┃\n",
      "┡━━━━━━━━━╇━━━━━━━━━━━━╇━━━━━━━━━━━━━━━━━━━╇━━━━━━━━━━━━━━━╇━━━━━━━━━━━━━━━━━━━┩\n",
      "│         │ Classifier │ \u001b[2mfloat32\u001b[0m[1,28,28,… │ \u001b[2mfloat32\u001b[0m[1,10] │                   │\n",
      "├─────────┼────────────┼───────────────────┼───────────────┼───────────────────┤\n",
      "│ Dense_0 │ Dense      │ \u001b[2mfloat32\u001b[0m[1,784]    │ \u001b[2mfloat32\u001b[0m[1,10] │ bias: \u001b[2mfloat32\u001b[0m[10] │\n",
      "│         │            │                   │               │ kernel:           │\n",
      "│         │            │                   │               │ \u001b[2mfloat32\u001b[0m[784,10]   │\n",
      "│         │            │                   │               │                   │\n",
      "│         │            │                   │               │ \u001b[1m7,850 \u001b[0m\u001b[1;2m(31.4 KB)\u001b[0m   │\n",
      "├─────────┼────────────┼───────────────────┼───────────────┼───────────────────┤\n",
      "│\u001b[1m \u001b[0m\u001b[1m       \u001b[0m\u001b[1m \u001b[0m│\u001b[1m \u001b[0m\u001b[1m          \u001b[0m\u001b[1m \u001b[0m│\u001b[1m \u001b[0m\u001b[1m                 \u001b[0m\u001b[1m \u001b[0m│\u001b[1m \u001b[0m\u001b[1m        Total\u001b[0m\u001b[1m \u001b[0m│\u001b[1m \u001b[0m\u001b[1m7,850 \u001b[0m\u001b[1;2m(31.4 KB)\u001b[0m\u001b[1m  \u001b[0m\u001b[1m \u001b[0m│\n",
      "└─────────┴────────────┴───────────────────┴───────────────┴───────────────────┘\n",
      "\u001b[1m                                                                                \u001b[0m\n",
      "\u001b[1m                       Total Parameters: 7,850 \u001b[0m\u001b[1;2m(31.4 KB)\u001b[0m\u001b[1m                        \u001b[0m\n",
      "\n",
      "\n"
     ]
    }
   ],
   "source": [
    "print(module.tabulate(jax.random.PRNGKey(0), jnp.empty((1, 28, 28, 1))))"
   ]
  },
  {
   "cell_type": "code",
   "execution_count": 6,
   "metadata": {},
   "outputs": [],
   "source": [
    "from flax.training.train_state import TrainState\n",
    "import optax\n",
    "\n",
    "def create_state(module):\n",
    "    variables = module.init(jax.random.PRNGKey(0), jnp.empty((1, 28, 28, 1)))\n",
    "    return TrainState.create(\n",
    "        apply_fn=module.apply,\n",
    "        params=variables[\"params\"],\n",
    "        tx=optax.adamw(1e-3),\n",
    "    )"
   ]
  },
  {
   "cell_type": "code",
   "execution_count": 22,
   "metadata": {},
   "outputs": [
    {
     "name": "stdout",
     "output_type": "stream",
     "text": [
      "TrainState(step=(), apply_fn=<bound method Module.apply of Classifier(\n",
      "    # attributes\n",
      "    num_classes = 10\n",
      ")>, params=FrozenDict({\n",
      "    Dense_0: {\n",
      "        bias: (10,),\n",
      "        kernel: (784, 10),\n",
      "    },\n",
      "}), tx=GradientTransformation(init=<function chain.<locals>.init_fn at 0x7f28082b2160>, update=<function chain.<locals>.update_fn at 0x7f28082b2550>), opt_state=(ScaleByAdamState(count=(), mu=FrozenDict({\n",
      "    Dense_0: {\n",
      "        bias: (10,),\n",
      "        kernel: (784, 10),\n",
      "    },\n",
      "}), nu=FrozenDict({\n",
      "    Dense_0: {\n",
      "        bias: (10,),\n",
      "        kernel: (784, 10),\n",
      "    },\n",
      "})), EmptyState(), EmptyState()))\n"
     ]
    }
   ],
   "source": [
    "state = create_state(module)\n",
    "print(jax.tree_map(jnp.shape, state))"
   ]
  },
  {
   "cell_type": "code",
   "execution_count": 14,
   "metadata": {},
   "outputs": [],
   "source": [
    "from typing import Dict\n",
    "\n",
    "def loss_fn(params, apply_fn, batch):\n",
    "    logits = apply_fn({'params': params}, x=batch['image'])\n",
    "    loss = optax.softmax_cross_entropy_with_integer_labels(\n",
    "        logits=logits, labels=batch['label']\n",
    "    ).mean()\n",
    "    return loss, logits\n",
    "\n",
    "@jax.jit\n",
    "def train_step(state: TrainState, batch: Dict[str, jax.Array]):\n",
    "    grad_fn = jax.value_and_grad(loss_fn, has_aux=True)\n",
    "    (loss, logits), grads = grad_fn(state.params, state.apply_fn, batch)\n",
    "\n",
    "    state = state.apply_gradients(grads=grads)\n",
    "\n",
    "    logs = {\n",
    "        'loss': loss,\n",
    "        'accuracy': (jnp.argmax(logits, axis=-1) == batch['label']).mean()\n",
    "    }\n",
    "    return logs, state"
   ]
  },
  {
   "cell_type": "code",
   "execution_count": 26,
   "metadata": {},
   "outputs": [
    {
     "name": "stderr",
     "output_type": "stream",
     "text": [
      "100%|██████████| 18750/18750 [00:30<00:00, 622.58it/s]\n"
     ]
    }
   ],
   "source": [
    "from tqdm import tqdm\n",
    "import numpy as np\n",
    "\n",
    "state = create_state(module)\n",
    "history = []\n",
    "total_steps = ds_train.cardinality().numpy()\n",
    "\n",
    "for batch in tqdm(ds_train.as_numpy_iterator(), total=total_steps):\n",
    "    logs, state = train_step(state, batch)\n",
    "    logs = jax.tree_map(np.asarray, logs)\n",
    "    history.append(logs)"
   ]
  },
  {
   "cell_type": "code",
   "execution_count": 28,
   "metadata": {},
   "outputs": [
    {
     "data": {
      "text/plain": [
       "Text(0.5, 1.0, 'Accuracy')"
      ]
     },
     "execution_count": 28,
     "metadata": {},
     "output_type": "execute_result"
    },
    {
     "data": {
      "image/png": "[encoded data removed]",
      "text/plain": [
       "<Figure size 1200x400 with 2 Axes>"
      ]
     },
     "metadata": {},
     "output_type": "display_data"
    }
   ],
   "source": [
    "\n",
    "fig, axs = plt.subplots(1, 2, figsize=(12, 4))\n",
    "axs[0].plot([h['loss'] for h in history])\n",
    "axs[0].set_title('Loss')\n",
    "axs[1].plot([h['accuracy'] for h in history])\n",
    "axs[1].set_title('Accuracy')"
   ]
  }
 ],
 "metadata": {
  "kernelspec": {
   "display_name": ".venv",
   "language": "python",
   "name": "python3"
  },
  "language_info": {
   "codemirror_mode": {
    "name": "ipython",
    "version": 3
   },
   "file_extension": ".py",
   "mimetype": "text/x-python",
   "name": "python",
   "nbconvert_exporter": "python",
   "pygments_lexer": "ipython3",
   "version": "3.8.10"
  },
  "orig_nbformat": 4,
  "vscode": {
   "interpreter": {
    "hash": "fb6198af79837b4782fa91dab25fa1542ab259a9c4a586eaadf6e1dfd854d0df"
   }
  }
 },
 "nbformat": 4,
 "nbformat_minor": 2
}
