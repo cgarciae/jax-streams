{
 "cells": [
  {
   "cell_type": "code",
   "execution_count": 1,
   "metadata": {},
   "outputs": [
    {
     "name": "stderr",
     "output_type": "stream",
     "text": [
      "/home/cris/jax-streams/.venv/lib/python3.8/site-packages/tqdm/auto.py:22: TqdmWarning: IProgress not found. Please update jupyter and ipywidgets. See https://ipywidgets.readthedocs.io/en/stable/user_install.html\n",
      "  from .autonotebook import tqdm as notebook_tqdm\n"
     ]
    }
   ],
   "source": [
    "import tensorflow_datasets as tfds\n",
    "import tensorflow as tf\n",
    "\n",
    "batch_size = 32\n",
    "epochs = 10\n",
    "\n",
    "# load the MNIST dataset\n",
    "ds_train: tf.data.Dataset = tfds.load(\"mnist\", split=\"train\", shuffle_files=True)\n",
    "ds_train = ds_train.repeat(epochs).shuffle(1024).batch(batch_size).prefetch(1)"
   ]
  },
  {
   "cell_type": "code",
   "execution_count": 2,
   "metadata": {},
   "outputs": [
    {
     "name": "stderr",
     "output_type": "stream",
     "text": [
      "2023-01-11 00:04:09.811164: W tensorflow/core/kernels/data/cache_dataset_ops.cc:856] The calling iterator did not fully read the dataset being cached. In order to avoid unexpected truncation of the dataset, the partially cached contents of the dataset  will be discarded. This can happen if you have an input pipeline similar to `dataset.cache().take(k).repeat()`. You should use `dataset.take(k).cache().repeat()` instead.\n"
     ]
    },
    {
     "data": {
      "image/png": "[encoded data removed]",
      "text/plain": [
       "<Figure size 640x480 with 9 Axes>"
      ]
     },
     "metadata": {},
     "output_type": "display_data"
    }
   ],
   "source": [
    "import matplotlib.pyplot as plt\n",
    "\n",
    "samples = ds_train.as_numpy_iterator().next()\n",
    "# plot a 3x3 grid of the images using subplots\n",
    "fig, axs = plt.subplots(3, 3)\n",
    "for i in range(3):\n",
    "    for j in range(3):\n",
    "        axs[i, j].imshow(samples[\"image\"][i * 3 + j, :, :, 0], cmap=\"gray\")\n",
    "        axs[i, j].axis(\"off\")\n"
   ]
  },
  {
   "cell_type": "code",
   "execution_count": 11,
   "metadata": {},
   "outputs": [],
   "source": [
    "import jax\n",
    "from jax.sharding import Mesh\n",
    "from jax.sharding import PartitionSpec\n",
    "from jax.sharding import NamedSharding\n",
    "from jax.experimental import mesh_utils\n",
    "\n",
    "P = PartitionSpec\n",
    "mesh = Mesh(mesh_utils.create_device_mesh((8,)), axis_names=('data',))\n",
    "\n",
    "def with_mesh(f):\n",
    "    def wrapper(*args, **kwargs):\n",
    "        with mesh:\n",
    "            return f(*args, **kwargs)\n",
    "    return wrapper\n",
    "\n",
    "# data: partition on batch axis\n",
    "# model: partition feature axis"
   ]
  },
  {
   "cell_type": "code",
   "execution_count": 12,
   "metadata": {},
   "outputs": [],
   "source": [
    "import flax.linen as nn\n",
    "import jax\n",
    "import jax.numpy as jnp\n",
    "\n",
    "class Classifier(nn.Module):\n",
    "    num_classes: int\n",
    "    \n",
    "    @nn.compact\n",
    "    def __call__(self, x):\n",
    "        hidden = nn.Dense(\n",
    "            features=500_000,\n",
    "            kernel_init=nn.with_partitioning(\n",
    "                nn.initializers.lecun_normal(), (None, 'data')\n",
    "            ),\n",
    "            bias_init=nn.with_partitioning(\n",
    "                nn.initializers.zeros, (None,)\n",
    "            ),\n",
    "            name='hidden',\n",
    "        )\n",
    "        x = x / 255.0\n",
    "        x = x.reshape((x.shape[0], -1))  # flatten\n",
    "        x = nn.relu(hidden(x))\n",
    "        x = nn.Dense(features=self.num_classes, name='head')(x)\n",
    "        return x\n",
    "\n",
    "module = Classifier(num_classes=10)\n",
    "\n",
    "# variables = module.init(jax.random.PRNGKey(0), jnp.empty((1, 28, 28, 1)))\n",
    "# jax.tree_map(jnp.shape, variables)"
   ]
  },
  {
   "cell_type": "code",
   "execution_count": 13,
   "metadata": {},
   "outputs": [
    {
     "data": {
      "text/plain": [
       "TrainState(step=(), apply_fn=<bound method Module.apply of Classifier(\n",
       "    # attributes\n",
       "    num_classes = 10\n",
       ")>, params=FrozenDict({\n",
       "    head: {\n",
       "        bias: (10,),\n",
       "        kernel: (500000, 10),\n",
       "    },\n",
       "    hidden: {\n",
       "        bias: Partitioned(value=(500000,), names=(None,)),\n",
       "        kernel: Partitioned(value=(784, 500000), names=(None, 'data')),\n",
       "    },\n",
       "}), tx=GradientTransformation(init=<function chain.<locals>.init_fn at 0x7f134046edc0>, update=<function chain.<locals>.update_fn at 0x7f13405671f0>), opt_state=(ScaleByAdamState(count=(), mu=FrozenDict({\n",
       "    head: {\n",
       "        bias: (10,),\n",
       "        kernel: (500000, 10),\n",
       "    },\n",
       "    hidden: {\n",
       "        bias: Partitioned(value=(500000,), names=(None,)),\n",
       "        kernel: Partitioned(value=(784, 500000), names=(None, 'data')),\n",
       "    },\n",
       "}), nu=FrozenDict({\n",
       "    head: {\n",
       "        bias: (10,),\n",
       "        kernel: (500000, 10),\n",
       "    },\n",
       "    hidden: {\n",
       "        bias: Partitioned(value=(500000,), names=(None,)),\n",
       "        kernel: Partitioned(value=(784, 500000), names=(None, 'data')),\n",
       "    },\n",
       "})), EmptyState(), EmptyState()))"
      ]
     },
     "execution_count": 13,
     "metadata": {},
     "output_type": "execute_result"
    }
   ],
   "source": [
    "from flax.training.train_state import TrainState\n",
    "import optax\n",
    "from functools import partial\n",
    "\n",
    "@with_mesh\n",
    "@partial(jax.jit, static_argnums=(0,))\n",
    "def create_state(module):\n",
    "    variables = module.init(jax.random.PRNGKey(0), jnp.empty((1, 28, 28, 1)))\n",
    "    state = TrainState.create(\n",
    "        apply_fn=module.apply,\n",
    "        params=variables[\"params\"],\n",
    "        tx=optax.adamw(1e-3),\n",
    "    )\n",
    "    state = jax.tree_map(jnp.asarray, state)\n",
    "    state_spec = nn.get_partition_spec(state)\n",
    "    state = jax.lax.with_sharding_constraint(state, state_spec)\n",
    "    return state\n",
    "\n",
    "state = create_state(module)\n",
    "jax.tree_map(jnp.shape, state)"
   ]
  },
  {
   "cell_type": "code",
   "execution_count": 6,
   "metadata": {},
   "outputs": [
    {
     "data": {
      "text/html": [
       "<pre style=\"white-space:pre;overflow-x:auto;line-height:normal;font-family:Menlo,'DejaVu Sans Mono',consolas,'Courier New',monospace\"><span style=\"color: #ffffff; text-decoration-color: #ffffff; background-color: #393b79\">          </span><span style=\"color: #ffffff; text-decoration-color: #ffffff; background-color: #d6616b\">          </span><span style=\"color: #ffffff; text-decoration-color: #ffffff; background-color: #8ca252\">          </span><span style=\"color: #ffffff; text-decoration-color: #ffffff; background-color: #de9ed6\">          </span><span style=\"color: #000000; text-decoration-color: #000000; background-color: #e7cb94\">          </span><span style=\"color: #ffffff; text-decoration-color: #ffffff; background-color: #6b6ecf\">          </span><span style=\"color: #ffffff; text-decoration-color: #ffffff; background-color: #a55194\">          </span><span style=\"color: #ffffff; text-decoration-color: #ffffff; background-color: #8c6d31\">          </span>\n",
       "<span style=\"color: #ffffff; text-decoration-color: #ffffff; background-color: #393b79\">          </span><span style=\"color: #ffffff; text-decoration-color: #ffffff; background-color: #d6616b\">          </span><span style=\"color: #ffffff; text-decoration-color: #ffffff; background-color: #8ca252\">          </span><span style=\"color: #ffffff; text-decoration-color: #ffffff; background-color: #de9ed6\">          </span><span style=\"color: #000000; text-decoration-color: #000000; background-color: #e7cb94\">          </span><span style=\"color: #ffffff; text-decoration-color: #ffffff; background-color: #6b6ecf\">          </span><span style=\"color: #ffffff; text-decoration-color: #ffffff; background-color: #a55194\">          </span><span style=\"color: #ffffff; text-decoration-color: #ffffff; background-color: #8c6d31\">          </span>\n",
       "<span style=\"color: #ffffff; text-decoration-color: #ffffff; background-color: #393b79\">          </span><span style=\"color: #ffffff; text-decoration-color: #ffffff; background-color: #d6616b\">          </span><span style=\"color: #ffffff; text-decoration-color: #ffffff; background-color: #8ca252\">          </span><span style=\"color: #ffffff; text-decoration-color: #ffffff; background-color: #de9ed6\">          </span><span style=\"color: #000000; text-decoration-color: #000000; background-color: #e7cb94\">          </span><span style=\"color: #ffffff; text-decoration-color: #ffffff; background-color: #6b6ecf\">          </span><span style=\"color: #ffffff; text-decoration-color: #ffffff; background-color: #a55194\">          </span><span style=\"color: #ffffff; text-decoration-color: #ffffff; background-color: #8c6d31\">          </span>\n",
       "<span style=\"color: #ffffff; text-decoration-color: #ffffff; background-color: #393b79\">          </span><span style=\"color: #ffffff; text-decoration-color: #ffffff; background-color: #d6616b\">          </span><span style=\"color: #ffffff; text-decoration-color: #ffffff; background-color: #8ca252\">          </span><span style=\"color: #ffffff; text-decoration-color: #ffffff; background-color: #de9ed6\">          </span><span style=\"color: #000000; text-decoration-color: #000000; background-color: #e7cb94\">          </span><span style=\"color: #ffffff; text-decoration-color: #ffffff; background-color: #6b6ecf\">          </span><span style=\"color: #ffffff; text-decoration-color: #ffffff; background-color: #a55194\">          </span><span style=\"color: #ffffff; text-decoration-color: #ffffff; background-color: #8c6d31\">          </span>\n",
       "<span style=\"color: #ffffff; text-decoration-color: #ffffff; background-color: #393b79\">          </span><span style=\"color: #ffffff; text-decoration-color: #ffffff; background-color: #d6616b\">          </span><span style=\"color: #ffffff; text-decoration-color: #ffffff; background-color: #8ca252\">          </span><span style=\"color: #ffffff; text-decoration-color: #ffffff; background-color: #de9ed6\">          </span><span style=\"color: #000000; text-decoration-color: #000000; background-color: #e7cb94\">          </span><span style=\"color: #ffffff; text-decoration-color: #ffffff; background-color: #6b6ecf\">          </span><span style=\"color: #ffffff; text-decoration-color: #ffffff; background-color: #a55194\">          </span><span style=\"color: #ffffff; text-decoration-color: #ffffff; background-color: #8c6d31\">          </span>\n",
       "<span style=\"color: #ffffff; text-decoration-color: #ffffff; background-color: #393b79\">          </span><span style=\"color: #ffffff; text-decoration-color: #ffffff; background-color: #d6616b\">          </span><span style=\"color: #ffffff; text-decoration-color: #ffffff; background-color: #8ca252\">          </span><span style=\"color: #ffffff; text-decoration-color: #ffffff; background-color: #de9ed6\">          </span><span style=\"color: #000000; text-decoration-color: #000000; background-color: #e7cb94\">          </span><span style=\"color: #ffffff; text-decoration-color: #ffffff; background-color: #6b6ecf\">          </span><span style=\"color: #ffffff; text-decoration-color: #ffffff; background-color: #a55194\">          </span><span style=\"color: #ffffff; text-decoration-color: #ffffff; background-color: #8c6d31\">          </span>\n",
       "<span style=\"color: #ffffff; text-decoration-color: #ffffff; background-color: #393b79\">          </span><span style=\"color: #ffffff; text-decoration-color: #ffffff; background-color: #d6616b\">          </span><span style=\"color: #ffffff; text-decoration-color: #ffffff; background-color: #8ca252\">          </span><span style=\"color: #ffffff; text-decoration-color: #ffffff; background-color: #de9ed6\">          </span><span style=\"color: #000000; text-decoration-color: #000000; background-color: #e7cb94\">          </span><span style=\"color: #ffffff; text-decoration-color: #ffffff; background-color: #6b6ecf\">          </span><span style=\"color: #ffffff; text-decoration-color: #ffffff; background-color: #a55194\">          </span><span style=\"color: #ffffff; text-decoration-color: #ffffff; background-color: #8c6d31\">          </span>\n",
       "<span style=\"color: #ffffff; text-decoration-color: #ffffff; background-color: #393b79\">          </span><span style=\"color: #ffffff; text-decoration-color: #ffffff; background-color: #d6616b\">          </span><span style=\"color: #ffffff; text-decoration-color: #ffffff; background-color: #8ca252\">          </span><span style=\"color: #ffffff; text-decoration-color: #ffffff; background-color: #de9ed6\">          </span><span style=\"color: #000000; text-decoration-color: #000000; background-color: #e7cb94\">          </span><span style=\"color: #ffffff; text-decoration-color: #ffffff; background-color: #6b6ecf\">          </span><span style=\"color: #ffffff; text-decoration-color: #ffffff; background-color: #a55194\">          </span><span style=\"color: #ffffff; text-decoration-color: #ffffff; background-color: #8c6d31\">          </span>\n",
       "<span style=\"color: #ffffff; text-decoration-color: #ffffff; background-color: #393b79\">          </span><span style=\"color: #ffffff; text-decoration-color: #ffffff; background-color: #d6616b\">          </span><span style=\"color: #ffffff; text-decoration-color: #ffffff; background-color: #8ca252\">          </span><span style=\"color: #ffffff; text-decoration-color: #ffffff; background-color: #de9ed6\">          </span><span style=\"color: #000000; text-decoration-color: #000000; background-color: #e7cb94\">          </span><span style=\"color: #ffffff; text-decoration-color: #ffffff; background-color: #6b6ecf\">          </span><span style=\"color: #ffffff; text-decoration-color: #ffffff; background-color: #a55194\">          </span><span style=\"color: #ffffff; text-decoration-color: #ffffff; background-color: #8c6d31\">          </span>\n",
       "<span style=\"color: #ffffff; text-decoration-color: #ffffff; background-color: #393b79\">          </span><span style=\"color: #ffffff; text-decoration-color: #ffffff; background-color: #d6616b\">          </span><span style=\"color: #ffffff; text-decoration-color: #ffffff; background-color: #8ca252\">          </span><span style=\"color: #ffffff; text-decoration-color: #ffffff; background-color: #de9ed6\">          </span><span style=\"color: #000000; text-decoration-color: #000000; background-color: #e7cb94\">          </span><span style=\"color: #ffffff; text-decoration-color: #ffffff; background-color: #6b6ecf\">          </span><span style=\"color: #ffffff; text-decoration-color: #ffffff; background-color: #a55194\">          </span><span style=\"color: #ffffff; text-decoration-color: #ffffff; background-color: #8c6d31\">          </span>\n",
       "</pre>\n"
      ],
      "text/plain": [
       "\u001b[38;2;255;255;255;48;2;57;59;121m          \u001b[0m\u001b[38;2;255;255;255;48;2;214;97;107m          \u001b[0m\u001b[38;2;255;255;255;48;2;140;162;82m          \u001b[0m\u001b[38;2;255;255;255;48;2;222;158;214m          \u001b[0m\u001b[38;2;0;0;0;48;2;231;203;148m          \u001b[0m\u001b[38;2;255;255;255;48;2;107;110;207m          \u001b[0m\u001b[38;2;255;255;255;48;2;165;81;148m          \u001b[0m\u001b[38;2;255;255;255;48;2;140;109;49m          \u001b[0m\n",
       "\u001b[38;2;255;255;255;48;2;57;59;121m          \u001b[0m\u001b[38;2;255;255;255;48;2;214;97;107m          \u001b[0m\u001b[38;2;255;255;255;48;2;140;162;82m          \u001b[0m\u001b[38;2;255;255;255;48;2;222;158;214m          \u001b[0m\u001b[38;2;0;0;0;48;2;231;203;148m          \u001b[0m\u001b[38;2;255;255;255;48;2;107;110;207m          \u001b[0m\u001b[38;2;255;255;255;48;2;165;81;148m          \u001b[0m\u001b[38;2;255;255;255;48;2;140;109;49m          \u001b[0m\n",
       "\u001b[38;2;255;255;255;48;2;57;59;121m          \u001b[0m\u001b[38;2;255;255;255;48;2;214;97;107m          \u001b[0m\u001b[38;2;255;255;255;48;2;140;162;82m          \u001b[0m\u001b[38;2;255;255;255;48;2;222;158;214m          \u001b[0m\u001b[38;2;0;0;0;48;2;231;203;148m          \u001b[0m\u001b[38;2;255;255;255;48;2;107;110;207m          \u001b[0m\u001b[38;2;255;255;255;48;2;165;81;148m          \u001b[0m\u001b[38;2;255;255;255;48;2;140;109;49m          \u001b[0m\n",
       "\u001b[38;2;255;255;255;48;2;57;59;121m          \u001b[0m\u001b[38;2;255;255;255;48;2;214;97;107m          \u001b[0m\u001b[38;2;255;255;255;48;2;140;162;82m          \u001b[0m\u001b[38;2;255;255;255;48;2;222;158;214m          \u001b[0m\u001b[38;2;0;0;0;48;2;231;203;148m          \u001b[0m\u001b[38;2;255;255;255;48;2;107;110;207m          \u001b[0m\u001b[38;2;255;255;255;48;2;165;81;148m          \u001b[0m\u001b[38;2;255;255;255;48;2;140;109;49m          \u001b[0m\n",
       "\u001b[38;2;255;255;255;48;2;57;59;121m          \u001b[0m\u001b[38;2;255;255;255;48;2;214;97;107m          \u001b[0m\u001b[38;2;255;255;255;48;2;140;162;82m          \u001b[0m\u001b[38;2;255;255;255;48;2;222;158;214m          \u001b[0m\u001b[38;2;0;0;0;48;2;231;203;148m          \u001b[0m\u001b[38;2;255;255;255;48;2;107;110;207m          \u001b[0m\u001b[38;2;255;255;255;48;2;165;81;148m          \u001b[0m\u001b[38;2;255;255;255;48;2;140;109;49m          \u001b[0m\n",
       "\u001b[38;2;255;255;255;48;2;57;59;121m          \u001b[0m\u001b[38;2;255;255;255;48;2;214;97;107m          \u001b[0m\u001b[38;2;255;255;255;48;2;140;162;82m          \u001b[0m\u001b[38;2;255;255;255;48;2;222;158;214m          \u001b[0m\u001b[38;2;0;0;0;48;2;231;203;148m          \u001b[0m\u001b[38;2;255;255;255;48;2;107;110;207m          \u001b[0m\u001b[38;2;255;255;255;48;2;165;81;148m          \u001b[0m\u001b[38;2;255;255;255;48;2;140;109;49m          \u001b[0m\n",
       "\u001b[38;2;255;255;255;48;2;57;59;121m          \u001b[0m\u001b[38;2;255;255;255;48;2;214;97;107m          \u001b[0m\u001b[38;2;255;255;255;48;2;140;162;82m          \u001b[0m\u001b[38;2;255;255;255;48;2;222;158;214m          \u001b[0m\u001b[38;2;0;0;0;48;2;231;203;148m          \u001b[0m\u001b[38;2;255;255;255;48;2;107;110;207m          \u001b[0m\u001b[38;2;255;255;255;48;2;165;81;148m          \u001b[0m\u001b[38;2;255;255;255;48;2;140;109;49m          \u001b[0m\n",
       "\u001b[38;2;255;255;255;48;2;57;59;121m          \u001b[0m\u001b[38;2;255;255;255;48;2;214;97;107m          \u001b[0m\u001b[38;2;255;255;255;48;2;140;162;82m          \u001b[0m\u001b[38;2;255;255;255;48;2;222;158;214m          \u001b[0m\u001b[38;2;0;0;0;48;2;231;203;148m          \u001b[0m\u001b[38;2;255;255;255;48;2;107;110;207m          \u001b[0m\u001b[38;2;255;255;255;48;2;165;81;148m          \u001b[0m\u001b[38;2;255;255;255;48;2;140;109;49m          \u001b[0m\n",
       "\u001b[38;2;255;255;255;48;2;57;59;121m          \u001b[0m\u001b[38;2;255;255;255;48;2;214;97;107m          \u001b[0m\u001b[38;2;255;255;255;48;2;140;162;82m          \u001b[0m\u001b[38;2;255;255;255;48;2;222;158;214m          \u001b[0m\u001b[38;2;0;0;0;48;2;231;203;148m          \u001b[0m\u001b[38;2;255;255;255;48;2;107;110;207m          \u001b[0m\u001b[38;2;255;255;255;48;2;165;81;148m          \u001b[0m\u001b[38;2;255;255;255;48;2;140;109;49m          \u001b[0m\n",
       "\u001b[38;2;255;255;255;48;2;57;59;121m          \u001b[0m\u001b[38;2;255;255;255;48;2;214;97;107m          \u001b[0m\u001b[38;2;255;255;255;48;2;140;162;82m          \u001b[0m\u001b[38;2;255;255;255;48;2;222;158;214m          \u001b[0m\u001b[38;2;0;0;0;48;2;231;203;148m          \u001b[0m\u001b[38;2;255;255;255;48;2;107;110;207m          \u001b[0m\u001b[38;2;255;255;255;48;2;165;81;148m          \u001b[0m\u001b[38;2;255;255;255;48;2;140;109;49m          \u001b[0m\n"
      ]
     },
     "metadata": {},
     "output_type": "display_data"
    },
    {
     "data": {
      "text/html": [
       "<pre style=\"white-space:pre;overflow-x:auto;line-height:normal;font-family:Menlo,'DejaVu Sans Mono',consolas,'Courier New',monospace\"><span style=\"color: #ffffff; text-decoration-color: #ffffff; background-color: #393b79\">                   </span>\n",
       "<span style=\"color: #ffffff; text-decoration-color: #ffffff; background-color: #393b79\">                   </span>\n",
       "<span style=\"color: #ffffff; text-decoration-color: #ffffff; background-color: #393b79\">                   </span>\n",
       "<span style=\"color: #ffffff; text-decoration-color: #ffffff; background-color: #393b79\">                   </span>\n",
       "<span style=\"color: #ffffff; text-decoration-color: #ffffff; background-color: #393b79\">                   </span>\n",
       "<span style=\"color: #ffffff; text-decoration-color: #ffffff; background-color: #393b79\">TPU 0,1,2,3,4,5,6,7</span>\n",
       "<span style=\"color: #ffffff; text-decoration-color: #ffffff; background-color: #393b79\">                   </span>\n",
       "<span style=\"color: #ffffff; text-decoration-color: #ffffff; background-color: #393b79\">                   </span>\n",
       "<span style=\"color: #ffffff; text-decoration-color: #ffffff; background-color: #393b79\">                   </span>\n",
       "<span style=\"color: #ffffff; text-decoration-color: #ffffff; background-color: #393b79\">                   </span>\n",
       "<span style=\"color: #ffffff; text-decoration-color: #ffffff; background-color: #393b79\">                   </span>\n",
       "</pre>\n"
      ],
      "text/plain": [
       "\u001b[38;2;255;255;255;48;2;57;59;121m                   \u001b[0m\n",
       "\u001b[38;2;255;255;255;48;2;57;59;121m                   \u001b[0m\n",
       "\u001b[38;2;255;255;255;48;2;57;59;121m                   \u001b[0m\n",
       "\u001b[38;2;255;255;255;48;2;57;59;121m                   \u001b[0m\n",
       "\u001b[38;2;255;255;255;48;2;57;59;121m                   \u001b[0m\n",
       "\u001b[38;2;255;255;255;48;2;57;59;121mTPU 0,1,2,3,4,5,6,7\u001b[0m\n",
       "\u001b[38;2;255;255;255;48;2;57;59;121m                   \u001b[0m\n",
       "\u001b[38;2;255;255;255;48;2;57;59;121m                   \u001b[0m\n",
       "\u001b[38;2;255;255;255;48;2;57;59;121m                   \u001b[0m\n",
       "\u001b[38;2;255;255;255;48;2;57;59;121m                   \u001b[0m\n",
       "\u001b[38;2;255;255;255;48;2;57;59;121m                   \u001b[0m\n"
      ]
     },
     "metadata": {},
     "output_type": "display_data"
    }
   ],
   "source": [
    "jax.debug.visualize_array_sharding(state.params[\"hidden\"][\"kernel\"].value)\n",
    "jax.debug.visualize_array_sharding(state.params[\"head\"][\"kernel\"])"
   ]
  },
  {
   "cell_type": "code",
   "execution_count": 16,
   "metadata": {},
   "outputs": [],
   "source": [
    "from typing import Dict\n",
    "\n",
    "def loss_fn(params, apply_fn, batch):\n",
    "    logits = apply_fn({'params': params}, x=batch['image'])\n",
    "    loss = optax.softmax_cross_entropy_with_integer_labels(\n",
    "        logits=logits, labels=batch['label']\n",
    "    ).mean()\n",
    "    return loss, logits\n",
    "\n",
    "@with_mesh\n",
    "@jax.jit\n",
    "def train_step(state: TrainState, batch: Dict[str, jax.Array]):\n",
    "    state_spec = nn.get_partition_spec(state)\n",
    "\n",
    "    batch = jax.lax.with_sharding_constraint(batch, P('data'))\n",
    "    grad_fn = jax.value_and_grad(loss_fn, has_aux=True)\n",
    "    (loss, logits), grads = grad_fn(state.params, state.apply_fn, batch)\n",
    "    grads = jax.lax.with_sharding_constraint(grads, state_spec.params)\n",
    "\n",
    "    state = state.apply_gradients(grads=grads)\n",
    "\n",
    "    logs = {\n",
    "        'loss': loss,\n",
    "        'accuracy': (jnp.argmax(logits, axis=-1) == batch['label']).mean()\n",
    "    }\n",
    "    state = jax.lax.with_sharding_constraint(state, state_spec)\n",
    "    return logs, state"
   ]
  },
  {
   "cell_type": "code",
   "execution_count": 17,
   "metadata": {},
   "outputs": [
    {
     "name": "stderr",
     "output_type": "stream",
     "text": [
      "100%|██████████| 18750/18750 [04:07<00:00, 75.74it/s]\n"
     ]
    }
   ],
   "source": [
    "from tqdm import tqdm\n",
    "import numpy as np\n",
    "\n",
    "state = create_state(module)\n",
    "history = []\n",
    "total_steps = ds_train.cardinality().numpy()\n",
    "\n",
    "for batch in tqdm(ds_train.as_numpy_iterator(), total=total_steps):\n",
    "    logs, state = train_step(state, batch)\n",
    "    logs = jax.tree_map(np.asarray, logs)\n",
    "    history.append(logs)"
   ]
  },
  {
   "cell_type": "code",
   "execution_count": 10,
   "metadata": {},
   "outputs": [
    {
     "data": {
      "text/plain": [
       "Text(0.5, 1.0, 'Accuracy')"
      ]
     },
     "execution_count": 10,
     "metadata": {},
     "output_type": "execute_result"
    },
    {
     "data": {
      "image/png": "[encoded data removed]",
      "text/plain": [
       "<Figure size 1200x400 with 2 Axes>"
      ]
     },
     "metadata": {},
     "output_type": "display_data"
    }
   ],
   "source": [
    "\n",
    "fig, axs = plt.subplots(1, 2, figsize=(12, 4))\n",
    "axs[0].plot([h['loss'] for h in history])\n",
    "axs[0].set_title('Loss')\n",
    "axs[1].plot([h['accuracy'] for h in history])\n",
    "axs[1].set_title('Accuracy')"
   ]
  },
  {
   "cell_type": "code",
   "execution_count": null,
   "metadata": {},
   "outputs": [],
   "source": []
  }
 ],
 "metadata": {
  "kernelspec": {
   "display_name": ".venv",
   "language": "python",
   "name": "python3"
  },
  "language_info": {
   "codemirror_mode": {
    "name": "ipython",
    "version": 3
   },
   "file_extension": ".py",
   "mimetype": "text/x-python",
   "name": "python",
   "nbconvert_exporter": "python",
   "pygments_lexer": "ipython3",
   "version": "3.8.10"
  },
  "orig_nbformat": 4,
  "vscode": {
   "interpreter": {
    "hash": "fb6198af79837b4782fa91dab25fa1542ab259a9c4a586eaadf6e1dfd854d0df"
   }
  }
 },
 "nbformat": 4,
 "nbformat_minor": 2
}
